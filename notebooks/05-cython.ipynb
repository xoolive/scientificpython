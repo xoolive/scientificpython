{
 "cells": [
  {
   "cell_type": "markdown",
   "metadata": {
    "collapsed": true
   },
   "source": [
    "## Compilation C en Python\n",
    "\n",
    "Python est un langage interprété relativement souple. Il n'est pas nécessaire de donner le type des objets que vous manipulez: c'est Python qui, à l'exécution, détermine le type de vos objets pour appeler le code machine correspondant.\n",
    "\n",
    "Au quotidien, on apprécie notamment de pouvoir manipuler des entiers, des flottants sans se soucier:\n",
    "\n",
    "- des types,\n",
    "- des débordements d'entier,\n",
    "- des débordements de mémoire dans les tableaux,\n",
    "- des divisions par zéro,\n",
    "- etc.\n"
   ]
  },
  {
   "cell_type": "code",
   "execution_count": 1,
   "metadata": {
    "collapsed": false
   },
   "outputs": [
    {
     "name": "stdout",
     "output_type": "stream",
     "text": [
      "Des entiers: 36\n",
      "Des flottants: 37.68\n",
      "De très grands entiers: 2077446682327378559843444695582704973572786912705232236931705903179519704325276892191015329301807037794598378537132233994613616420526484930777273718077112370160566492728059713895917217042738578562985773221381211423961068296308572143393854703167926779929682604844469621152130457090778409728703018428147734622401526422774317612081074841839507864189781700150115308454681772032\n"
     ]
    },
    {
     "ename": "IndexError",
     "evalue": "list index out of range",
     "output_type": "error",
     "traceback": [
      "\u001b[0;31m---------------------------------------------------------------------------\u001b[0m",
      "\u001b[0;31mIndexError\u001b[0m                                Traceback (most recent call last)",
      "\u001b[0;32m<ipython-input-1-1fcbde366471>\u001b[0m in \u001b[0;36m<module>\u001b[0;34m()\u001b[0m\n\u001b[1;32m      2\u001b[0m \u001b[0mprint\u001b[0m \u001b[0;34m(\u001b[0m\u001b[0;34m\"Des flottants: {}\"\u001b[0m\u001b[0;34m.\u001b[0m\u001b[0mformat\u001b[0m\u001b[0;34m(\u001b[0m\u001b[0;36m12\u001b[0m \u001b[0;34m*\u001b[0m \u001b[0;36m3.14\u001b[0m\u001b[0;34m)\u001b[0m\u001b[0;34m)\u001b[0m\u001b[0;34m\u001b[0m\u001b[0m\n\u001b[1;32m      3\u001b[0m \u001b[0mprint\u001b[0m \u001b[0;34m(\u001b[0m\u001b[0;34m\"De très grands entiers: {}\"\u001b[0m\u001b[0;34m.\u001b[0m\u001b[0mformat\u001b[0m\u001b[0;34m(\u001b[0m\u001b[0;36m12\u001b[0m \u001b[0;34m**\u001b[0m \u001b[0;36m345\u001b[0m\u001b[0;34m)\u001b[0m\u001b[0;34m)\u001b[0m\u001b[0;34m\u001b[0m\u001b[0m\n\u001b[0;32m----> 4\u001b[0;31m \u001b[0mprint\u001b[0m \u001b[0;34m(\u001b[0m\u001b[0;34m\"Des listes trop courtes: {}\"\u001b[0m\u001b[0;34m.\u001b[0m\u001b[0mformat\u001b[0m\u001b[0;34m(\u001b[0m\u001b[0;34m[\u001b[0m\u001b[0;36m1\u001b[0m\u001b[0;34m,\u001b[0m \u001b[0;36m2\u001b[0m\u001b[0;34m]\u001b[0m\u001b[0;34m[\u001b[0m\u001b[0;36m2\u001b[0m\u001b[0;34m]\u001b[0m\u001b[0;34m)\u001b[0m\u001b[0;34m)\u001b[0m\u001b[0;34m\u001b[0m\u001b[0m\n\u001b[0m",
      "\u001b[0;31mIndexError\u001b[0m: list index out of range"
     ]
    }
   ],
   "source": [
    "print (\"Des entiers: {}\".format(12 * 3))\n",
    "print (\"Des flottants: {}\".format(12 * 3.14))\n",
    "print (\"De très grands entiers: {}\".format(12 ** 345))\n",
    "print (\"Des listes trop courtes: {}\".format([1, 2][2]))"
   ]
  },
  {
   "cell_type": "markdown",
   "metadata": {},
   "source": [
    "Cette souplesse, très appréciée des ingénieurs pour la flexibilité qu'elle offre au quotidien, a un coût: celui de la performance. Le retour au C est souvent nécessaire quand le temps de calcul devient un problème.\n",
    "\n",
    "La bibliothèque `numpy` que nous avons déjà manipulée propose de revenir au C pour les tableaux de données et fait appel aux fonctions C qui correspondent à l'intuition des opérateurs Python. On a vu par exemple `np.sin(x)` qui déroule une boucle pour calculer un sinus sur tous les éléments d'un tableau.\n",
    "\n",
    "### Introduction à Cython\n",
    "\n",
    "Observons le code ci-dessous qui intègre la fonction $f:x \\mapsto x^2 - x$ par la méthode des rectangles."
   ]
  },
  {
   "cell_type": "code",
   "execution_count": null,
   "metadata": {
    "collapsed": true
   },
   "outputs": [],
   "source": [
    "def f(x):\n",
    "    return x**2-x\n",
    "\n",
    "def integrate_f(a, b, N):\n",
    "    s = 0\n",
    "    dx = (b-a)/N\n",
    "    for i in range(N):\n",
    "        s += f(a+i*dx)\n",
    "    return s * dx"
   ]
  },
  {
   "cell_type": "code",
   "execution_count": null,
   "metadata": {
    "collapsed": false,
    "scrolled": true
   },
   "outputs": [],
   "source": [
    "%timeit integrate_f(0, 5, 100000)"
   ]
  },
  {
   "cell_type": "markdown",
   "metadata": {},
   "source": [
    "Cython (http://docs.cython.org/index.html) est une bibliothèque Python qui permet de compiler en C du code natif Python. En pratique, c'est une nouvelle syntaxe qui permet de générer du code C à partir de code Python annoté.\n",
    "\n",
    "**La bonne nouvelle, c'est que tout code Python non annoté peut être compris par Cython.**\n",
    "\n",
    "Dans le notebook, on peut utiliser une extension `Cython` qui permet d'automatiser la procédure de compilation et de chargement des fonctions compilées dans Python. Il faut commencer par charger cette extension."
   ]
  },
  {
   "cell_type": "code",
   "execution_count": null,
   "metadata": {
    "collapsed": false
   },
   "outputs": [],
   "source": [
    "%load_ext Cython"
   ]
  },
  {
   "cell_type": "markdown",
   "metadata": {},
   "source": [
    "Puis on préfixe les cellules de code à compiler par la ligne `%%cython`. Il est indispensable que cette instruction soit sur la première ligne de la cellule."
   ]
  },
  {
   "cell_type": "code",
   "execution_count": null,
   "metadata": {
    "collapsed": true
   },
   "outputs": [],
   "source": [
    "%%cython\n",
    "\n",
    "def f(x):\n",
    "    return x**2-x\n",
    "\n",
    "def integrate_f(a, b, N):\n",
    "    s = 0\n",
    "    dx = (b-a)/N\n",
    "    for i in range(N):\n",
    "        s += f(a+i*dx)\n",
    "    return s * dx"
   ]
  },
  {
   "cell_type": "markdown",
   "metadata": {},
   "source": [
    "Comparons maintenant les performances."
   ]
  },
  {
   "cell_type": "code",
   "execution_count": null,
   "metadata": {
    "collapsed": false
   },
   "outputs": [],
   "source": [
    "%timeit integrate_f(0, 5, 100000)"
   ]
  },
  {
   "cell_type": "markdown",
   "metadata": {},
   "source": [
    "D'une manière générale, du code Python non annoté permet d'atteindre une amélioration des temps de calcul de 30%.\n",
    "\n",
    "Mais soyons plus audacieux et annotons nos variables par leur type:\n",
    "- les variables passées aux fonctions (on ajoute ainsi `double`, `int`, etc.);\n",
    "- les variables locales à notre fonction (on utilise alors **le mot clé `cdef`**)"
   ]
  },
  {
   "cell_type": "code",
   "execution_count": null,
   "metadata": {
    "collapsed": false
   },
   "outputs": [],
   "source": [
    "%%cython\n",
    "\n",
    "def f(double x):\n",
    "    return x**2-x\n",
    "\n",
    "def integrate_f(double a, double b, int N):\n",
    "    cdef int i\n",
    "    cdef double dx\n",
    "    s = 0\n",
    "    dx = (b-a)/N\n",
    "    for i in range(N):\n",
    "        s += f(a+i*dx)\n",
    "    return s * dx"
   ]
  },
  {
   "cell_type": "code",
   "execution_count": null,
   "metadata": {
    "collapsed": false,
    "scrolled": true
   },
   "outputs": [],
   "source": [
    "%timeit integrate_f(0, 5, 100000)"
   ]
  },
  {
   "cell_type": "markdown",
   "metadata": {},
   "source": [
    "L'écart de performance commence à devenir intéressant.\n",
    "\n",
    "La commande `%%cython` offre une option `-a` (pour annotate) qui permet de guider nos annotations. Ainsi, dans le résultat qui s'affiche sous la cellule:\n",
    "\n",
    "- plus une ligne est jaune, plus elle est proche du Python;\n",
    "- plus une ligne est blanche, plus elle est proche du C.\n",
    "\n",
    "On peut cliquer sur les lignes jaunes (et blanches) pour « déplier » le code C généré correspondant et comprendre les optimisations qui peuvent encore être faites."
   ]
  },
  {
   "cell_type": "code",
   "execution_count": null,
   "metadata": {
    "collapsed": false
   },
   "outputs": [],
   "source": [
    "%%cython -a\n",
    "\n",
    "def f(double x):\n",
    "    return x**2-x\n",
    "\n",
    "def integrate_f(double a, double b, int N):\n",
    "    cdef int i\n",
    "    cdef double dx\n",
    "    s = 0\n",
    "    dx = (b-a)/N\n",
    "    for i in range(N):\n",
    "        s += f(a+i*dx)\n",
    "    return s * dx"
   ]
  },
  {
   "cell_type": "markdown",
   "metadata": {},
   "source": [
    "Avec la pratique, ici on comprend que la fonction `f` n'a pas de type de retour. (cf. clic sur la ligne 3)  \n",
    "En cliquant sur la ligne 2 ou sur la ligne 11, on voit également l'étendue des dégâts (le volume du code C généré).\n",
    "\n",
    "Il est alors possible de typer la valeur de retour de la fonction `f`. **On remplace alors le mot-clé `def` par le mot clé `cdef`** avant de préciser le type de retour. Le prix à payer pour cette optimisation est que la fonction `f` n'est plus accessible depuis le code Python. Elle peut en revanche être appelée par les autres fonctions dans la cellule Cython.\n",
    "\n",
    "C'est la raison pour laquelle **il n'est pas possible de typer la valeur de retour de la fonction `integrate_f`**."
   ]
  },
  {
   "cell_type": "code",
   "execution_count": null,
   "metadata": {
    "collapsed": false
   },
   "outputs": [],
   "source": [
    "%%cython -a\n",
    "\n",
    "cdef double f(double x):\n",
    "    return x**2-x\n",
    "\n",
    "def integrate_f(double a, double b, int N):\n",
    "    cdef int i\n",
    "    cdef double dx\n",
    "    s = 0\n",
    "    dx = (b-a)/N\n",
    "    for i in range(N):\n",
    "        s += f(a+i*dx)\n",
    "    return s * dx"
   ]
  },
  {
   "cell_type": "code",
   "execution_count": null,
   "metadata": {
    "collapsed": false,
    "scrolled": false
   },
   "outputs": [],
   "source": [
    "%timeit integrate_f(0, 5, 100000)"
   ]
  },
  {
   "cell_type": "markdown",
   "metadata": {},
   "source": [
    "<div class=\"alert alert-warning\">\n",
    "**Exercice:** Il reste une annotation que nous avons oubliée dans le code précédent.  \n",
    "Complétez l'optimisation que nous avons entamée et comparez les performances.\n",
    "</div>"
   ]
  },
  {
   "cell_type": "code",
   "execution_count": null,
   "metadata": {
    "collapsed": false,
    "scrolled": true
   },
   "outputs": [],
   "source": []
  },
  {
   "cell_type": "markdown",
   "metadata": {},
   "source": [
    "<div class=\"alert alert-warning\">\n",
    "**Exercice:** Comparez les performances entre les différentes étapes de l'optimisation Cython.\n",
    "</div>"
   ]
  },
  {
   "cell_type": "code",
   "execution_count": null,
   "metadata": {
    "collapsed": true
   },
   "outputs": [],
   "source": []
  },
  {
   "cell_type": "markdown",
   "metadata": {},
   "source": [
    "### Appel de fonctions C depuis Python (avancé)\n",
    "\n",
    "On souhaite appeler la fonction `qsort` de la librairie standard C pour trier des structures Python. Python est certes bien équipé pour trier des listes, mais l'exemple est très illustratif.\n",
    "\n",
    "La fonction `qsort` est présente dans la librairie standard C, dans `stdlib.h`. On peut y trouver sa signature:\n",
    "```c\n",
    "void qsort(void *array, size_t count, size_t size,\n",
    "           int (*compare)(const void*, const void*))\n",
    "```\n",
    "\n",
    "`qsort` fonctionne à base de structures opaques (`void*`): `array` est un tableau à trier qui comprend `count` éléments de taille `size` (en octets). La fonction `compare` prend en entrée deux références (pointeurs) dans le tableau `array` et renvoie un entier négatif si `a < b`, `0` si `a == b` et un entier positif si `a > b`.\n",
    "\n",
    "On va créer une fonction `py_qsort` qui va trier une liste d'entiers avec la fonction `qsort` en C.\n",
    "\n",
    "Il va nous falloir:\n",
    "- créer un tableau C d'entiers de la bonne taille;\n",
    "- recopier les entiers Python dans le tableau C;\n",
    "- appeler la fonction `qsort` avec la bonne fonction de comparaison;\n",
    "- récupérer le tableau trié puis le convertir en tableau Python.\n",
    "\n",
    "Cython permet de faire appel à des fonctions définies dans des *headers* C grâce à la formule `cdef extern from`, on recopie ensuite ligne par ligne les déclarations de fonctions que l'on souhaite utiliser en Cython."
   ]
  },
  {
   "cell_type": "code",
   "execution_count": null,
   "metadata": {
    "collapsed": false
   },
   "outputs": [],
   "source": [
    "%%cython\n",
    "\n",
    "cdef extern from \"stdlib.h\":\n",
    "    void qsort(void *array, size_t count, size_t size,\n",
    "               int (*compare)(const void*, const void*))\n",
    "    void *malloc(size_t size)\n",
    "    void free(void* ptr)\n",
    "    \n",
    "# Comparison function\n",
    "cdef int int_compare(const void* a, const void* b):\n",
    "    cdef int ia, ib\n",
    "    ia = (<int*> a)[0] # cast to int -> dereference\n",
    "    ib = (<int*> b)[0]\n",
    "    return ia - ib\n",
    "\n",
    "def py_qsort(list x):\n",
    "    cdef int *array\n",
    "    cdef int i, n\n",
    "    \n",
    "    # Allocate the C array\n",
    "    n = len(x)\n",
    "    array = <int*> malloc(sizeof(int) * n)\n",
    "    if array == NULL:\n",
    "        raise MemoryError(\"Unable to allocate array\")\n",
    "        \n",
    "    # Fill the C array with the Python integers\n",
    "    for i in range(n):\n",
    "        array[i] = x[i]\n",
    "        \n",
    "    # qsort the array\n",
    "    qsort(<void*> array, <size_t> n, sizeof(int), int_compare)\n",
    "        \n",
    "    # Convert back to Python and free \n",
    "    for i in range(n):\n",
    "        x[i] = array[i]\n",
    "    \n",
    "    free(array)"
   ]
  },
  {
   "cell_type": "code",
   "execution_count": null,
   "metadata": {
    "collapsed": false
   },
   "outputs": [],
   "source": [
    "from random import shuffle\n",
    "\n",
    "intlist = list(range(10))\n",
    "shuffle(intlist)\n",
    "print (intlist)"
   ]
  },
  {
   "cell_type": "code",
   "execution_count": null,
   "metadata": {
    "collapsed": false
   },
   "outputs": [],
   "source": [
    "py_qsort(intlist)\n",
    "print (intlist)"
   ]
  },
  {
   "cell_type": "markdown",
   "metadata": {},
   "source": [
    "<div class=\"alert alert-warning\">\n",
    "**Exercice:** Ajouter un mot-clé `reverse` à la fonction `py_qsort` (par défaut à `False`) pour faire un tri dans l'ordre décroissant.\n",
    "</div>"
   ]
  },
  {
   "cell_type": "code",
   "execution_count": null,
   "metadata": {
    "collapsed": true
   },
   "outputs": [],
   "source": [
    "%%cython\n"
   ]
  },
  {
   "cell_type": "code",
   "execution_count": null,
   "metadata": {
    "collapsed": false
   },
   "outputs": [],
   "source": [
    "py_qsort(intlist)\n",
    "print (intlist)\n",
    "\n",
    "shuffle(intlist)\n",
    "py_qsort(intlist, reverse = True)\n",
    "print (intlist)  # [9, 8, 7, 6, 5, 4, 3, 2, 1, 0]"
   ]
  },
  {
   "cell_type": "markdown",
   "metadata": {},
   "source": [
    "<div class=\"alert alert-warning\">\n",
    "**Exercice:** Ajouter un mot-clé `compare` à la fonction `py_qsort` (par défaut à `None`) pour passer une fonction de comparaison Python.\n",
    "</div>"
   ]
  },
  {
   "cell_type": "code",
   "execution_count": null,
   "metadata": {
    "collapsed": false
   },
   "outputs": [],
   "source": [
    "%%cython\n"
   ]
  },
  {
   "cell_type": "code",
   "execution_count": null,
   "metadata": {
    "collapsed": false
   },
   "outputs": [],
   "source": [
    "intlist = list(range(-10, 10))\n",
    "shuffle(intlist)\n",
    "\n",
    "def cmp(a, b):\n",
    "    return (abs(a) - abs(b))\n",
    "\n",
    "py_qsort(intlist, compare = cmp)\n",
    "print (intlist)  # [0, -1, 1, -2, 2, 3, -3, -4, 4, -5, 5, -6, 6, 7, -7, 8, -8, 9, -9, -10]\n",
    "\n",
    "shuffle(intlist)\n",
    "py_qsort(intlist, compare = cmp, reverse = True)\n",
    "print (intlist)"
   ]
  },
  {
   "cell_type": "code",
   "execution_count": null,
   "metadata": {
    "collapsed": true
   },
   "outputs": [],
   "source": []
  }
 ],
 "metadata": {
  "kernelspec": {
   "display_name": "Python 3",
   "language": "python",
   "name": "python3"
  },
  "language_info": {
   "codemirror_mode": {
    "name": "ipython",
    "version": 3
   },
   "file_extension": ".py",
   "mimetype": "text/x-python",
   "name": "python",
   "nbconvert_exporter": "python",
   "pygments_lexer": "ipython3",
   "version": "3.5.2"
  },
  "widgets": {
   "state": {},
   "version": "1.1.2"
  }
 },
 "nbformat": 4,
 "nbformat_minor": 0
}
